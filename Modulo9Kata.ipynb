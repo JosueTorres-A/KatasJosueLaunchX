{
 "cells": [
  {
   "cell_type": "markdown",
   "metadata": {},
   "source": [
    "# Ejercicio: Uso de funciones en Python\n"
   ]
  },
  {
   "cell_type": "markdown",
   "metadata": {},
   "source": [
    "### Ejercicio 1: Trabajar con argumentos en funciones\n"
   ]
  },
  {
   "cell_type": "markdown",
   "metadata": {},
   "source": [
    "Los argumentos requeridos en las funciones se utilizan cuando las funciones necesitan que esos argumentos funcionen correctamente. En este ejercicio, construirás un informe de combustible que requiere información de varias ubicaciones de combustible en todo el cohete.\n",
    "\n"
   ]
  },
  {
   "cell_type": "markdown",
   "metadata": {},
   "source": [
    "Comienza por crear una función que necesite tres lecturas de combustible y devuelva un informe:\n",
    "\n"
   ]
  },
  {
   "cell_type": "code",
   "execution_count": 8,
   "metadata": {},
   "outputs": [],
   "source": [
    "# Función para leer 3 tanques de combustible y muestre el promedio\n",
    "def promedio_lecturas(tanque1, tanque2, tanque3):\n",
    "    total = (tanque1 + tanque2 + tanque3) / 3\n",
    "    return f\"\"\"Informe de lecturas:\n",
    "    Promedio: {total}\n",
    "    Tanque 1: {tanque1}\n",
    "    Tanque 2: {tanque2}\n",
    "    Tanque 3: {tanque3}\n",
    "    \"\"\"\n"
   ]
  },
  {
   "cell_type": "markdown",
   "metadata": {},
   "source": [
    "Ahora que hemos definido la función de informes, vamos a comprobarlo. Para esta misión, los tanques no están llenos:\n",
    "\n"
   ]
  },
  {
   "cell_type": "code",
   "execution_count": 9,
   "metadata": {},
   "outputs": [
    {
     "name": "stdout",
     "output_type": "stream",
     "text": [
      "Informe de lecturas:\n",
      "    Promedio: 53.333333333333336\n",
      "    Tanque 1: 20\n",
      "    Tanque 2: 60\n",
      "    Tanque 3: 80\n",
      "    \n"
     ]
    }
   ],
   "source": [
    "# Llamamos a la función que genera el reporte print(funcion(tanque1, tanque2, tanque3))\n",
    "print(promedio_lecturas(20,60,80))"
   ]
  },
  {
   "cell_type": "markdown",
   "metadata": {},
   "source": [
    "En lugar de simplemente crear el informe, la función también está calculando el promedio. Mejora la legibilidad extrayendo el cálculo promedio de la función en una nueva función para que el promedio se pueda hacer de forma independiente:\n",
    "\n"
   ]
  },
  {
   "cell_type": "code",
   "execution_count": 10,
   "metadata": {},
   "outputs": [],
   "source": [
    "# Función promedio \n",
    "def funcion_promedio(lecturas):\n",
    "    total = sum(lecturas)\n",
    "    num_lecturas = len(lecturas)\n",
    "    return total / num_lecturas\n"
   ]
  },
  {
   "cell_type": "markdown",
   "metadata": {},
   "source": [
    "Ahora actualiza la función de informes para llamando a la nueva función del promedio:\n",
    "\n"
   ]
  },
  {
   "cell_type": "code",
   "execution_count": 12,
   "metadata": {},
   "outputs": [
    {
     "name": "stdout",
     "output_type": "stream",
     "text": [
      "Informe de lecturas:\n",
      "    Promedio: 53.333333333333336\n",
      "    Tanque 1: 20\n",
      "    Tanque 2: 60\n",
      "    Tanque 3: 80\n",
      "    \n"
     ]
    }
   ],
   "source": [
    "# Actualiza la función\n",
    "def promedio_lecturas(tanque1, tanque2, tanque3):\n",
    "    return f\"\"\"Informe de lecturas:\n",
    "    Promedio: {funcion_promedio([tanque1, tanque2, tanque3])}\n",
    "    Tanque 1: {tanque1}\n",
    "    Tanque 2: {tanque2}\n",
    "    Tanque 3: {tanque3}\n",
    "    \"\"\"\n",
    "\n",
    "print(promedio_lecturas(20,60,80))"
   ]
  },
  {
   "cell_type": "markdown",
   "metadata": {},
   "source": [
    "# Ejercicio 2: Trabajo con argumentos de palabra clave\n"
   ]
  },
  {
   "cell_type": "markdown",
   "metadata": {},
   "source": [
    "### Ejercicio : Trabajar con argumentos de palabras clave en funciones\n"
   ]
  },
  {
   "cell_type": "markdown",
   "metadata": {},
   "source": [
    "En este ejercicio, construirás un informe de cohete que requiere varias piezas de información, como el tiempo hasta el destino, el combustible a la izquierda y el nombre del destino. Comienza por crear una función que creará un informe preciso de la misión:\n",
    "\n"
   ]
  },
  {
   "cell_type": "code",
   "execution_count": 16,
   "metadata": {},
   "outputs": [
    {
     "name": "stdout",
     "output_type": "stream",
     "text": [
      "\n",
      "    Informe PrecISO 9000:\n",
      "    Hora de prelanzamiento: 15\n",
      "    Tiempo de vuelo: 48\n",
      "    Destino: Saturno\n",
      "    Nivel de tanque externo: 1000\n",
      "    Nivel de tanque interno: 1500\n",
      "    \n"
     ]
    }
   ],
   "source": [
    "# Función con un informe preciso de la misión. \n",
    "# Considera hora de prelanzamiento, tiempo de vuelo, destino, \n",
    "# tanque externo y tanque interno\n",
    "def informe_preciso(hora_prelanzamiento, tiempo_vuelo, \n",
    "destino, tanque_externo, tanque_interno):\n",
    "    return f\"\"\"\n",
    "    Informe PrecISO 9000:\n",
    "    Hora de prelanzamiento: {hora_prelanzamiento}\n",
    "    Tiempo de vuelo: {tiempo_vuelo}\n",
    "    Destino: {destino}\n",
    "    Nivel de tanque externo: {tanque_externo}\n",
    "    Nivel de tanque interno: {tanque_interno}\n",
    "    \"\"\"\n",
    "\n",
    "print(informe_preciso(15, 48, 'Saturno', 1000, 1500))"
   ]
  },
  {
   "cell_type": "markdown",
   "metadata": {},
   "source": [
    "La función es problemática porque no se puede adaptar para minutos adicionales o tanques adicionales de combustible. Hazlo más flexible permitiendo cualquier número de pasos basados en el tiempo y cualquier número de tanques. En lugar de usar *args y **kwargs, aprovecha el hecho de que puedes usar cualquier nombre que desees. Asegurate que la función sea más legible mediante el uso de nombres de variables que están asociados con las entradas, como *minutes y **fuel_reservoirs:\n",
    "\n"
   ]
  },
  {
   "cell_type": "code",
   "execution_count": 17,
   "metadata": {},
   "outputs": [
    {
     "name": "stdout",
     "output_type": "stream",
     "text": [
      "\n",
      "    Informe PrecISO 9000:\n",
      "    Misión con destino a: Saturno\n",
      "    Tiempo de vuelo: 63\n",
      "    Combustible restante: 2500\n",
      "    \n"
     ]
    }
   ],
   "source": [
    "# Escribe tu nueva función de reporte considerando lo anterior\n",
    "def informe_preciso(destino, *minutos, **reserva_combustible):\n",
    "    return f\"\"\"\n",
    "    Informe PrecISO 9000:\n",
    "    Misión con destino a: {destino}\n",
    "    Tiempo de vuelo: {sum(minutos)}\n",
    "    Combustible restante: {sum(reserva_combustible.values())}\n",
    "    \"\"\"\n",
    "\n",
    "print(informe_preciso('Saturno', 15, 48, externo=1000, interno=1500))"
   ]
  },
  {
   "cell_type": "markdown",
   "metadata": {},
   "source": [
    "Debido a que el combustible que queda en los tanques es específico de cada tanque, actualiza la función para usar el nombre de cada tanque en el informe:\n",
    "\n"
   ]
  },
  {
   "cell_type": "code",
   "execution_count": 28,
   "metadata": {},
   "outputs": [
    {
     "name": "stdout",
     "output_type": "stream",
     "text": [
      "\n",
      "    Informe PrecISO 9000:\n",
      "    Misión con destino a: Saturno\n",
      "    Tiempo de vuelo: 63\n",
      "    Combustible restante: 2500\n",
      "    Cantidad de combustible en tanque externo: 1000\n",
      "    Cantidad de combustible en tanque interno: 1500\n"
     ]
    }
   ],
   "source": [
    "# Escribe tu nueva función\n",
    "def informe_preciso(destino, *minutos, **reserva_combustible):\n",
    "    informe_a_medias = f\"\"\"\n",
    "    Informe PrecISO 9000:\n",
    "    Misión con destino a: {destino}\n",
    "    Tiempo de vuelo: {sum(minutos)}\n",
    "    Combustible restante: {sum(reserva_combustible.values())}\"\"\"\n",
    "\n",
    "    for tanque, valor in reserva_combustible.items():\n",
    "        informe_a_medias += f'\\n    Cantidad de combustible en tanque {tanque}: {valor}'\n",
    "    return informe_a_medias\n",
    "\n",
    "print(informe_preciso('Saturno', 15, 48, externo=1000, interno=1500))"
   ]
  }
 ],
 "metadata": {
  "interpreter": {
   "hash": "179a46bd6e261cee155f62a16cd94098c4d5d675f4d09debfb59769c00eba69a"
  },
  "kernelspec": {
   "display_name": "Python 3.9.5 64-bit",
   "language": "python",
   "name": "python3"
  },
  "language_info": {
   "codemirror_mode": {
    "name": "ipython",
    "version": 3
   },
   "file_extension": ".py",
   "mimetype": "text/x-python",
   "name": "python",
   "nbconvert_exporter": "python",
   "pygments_lexer": "ipython3",
   "version": "3.9.5"
  },
  "orig_nbformat": 4
 },
 "nbformat": 4,
 "nbformat_minor": 2
}
